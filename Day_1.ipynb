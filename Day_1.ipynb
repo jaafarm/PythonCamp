{
  "nbformat": 4,
  "nbformat_minor": 0,
  "metadata": {
    "colab": {
      "name": "Untitled1.ipynb",
      "provenance": [],
      "collapsed_sections": []
    },
    "kernelspec": {
      "name": "python3",
      "display_name": "Python 3"
    }
  },
  "cells": [
    {
      "cell_type": "code",
      "metadata": {
        "colab": {
          "base_uri": "https://localhost:8080/"
        },
        "id": "_ZCo4EN4SQip",
        "outputId": "4a48bcd6-ecd7-4ede-b101-eac34813cf28"
      },
      "source": [
        "username = input(\"Enter your username: \")\r\n",
        "print(\"Your username is: \", username)"
      ],
      "execution_count": 9,
      "outputs": [
        {
          "output_type": "stream",
          "text": [
            "Enter your username: jaafar\n",
            "Your username is:  jaafar\n"
          ],
          "name": "stdout"
        }
      ]
    },
    {
      "cell_type": "code",
      "metadata": {
        "colab": {
          "base_uri": "https://localhost:8080/"
        },
        "id": "MEiR1RkVToK1",
        "outputId": "e95c120a-5c73-4b7e-a387-c09eb34ed018"
      },
      "source": [
        "num1 = input(\"Enter the first number: \")\r\n",
        "num2 = input(\"Enter the second number: \")\r\n",
        "sum = float (num1) + float (num2)\r\n",
        "print(\"The total is: \", sum)"
      ],
      "execution_count": 8,
      "outputs": [
        {
          "output_type": "stream",
          "text": [
            "Enter the first number: 5\n",
            "Enter the second number: 6.4\n",
            "The total is:  11.4\n"
          ],
          "name": "stdout"
        }
      ]
    }
  ]
}